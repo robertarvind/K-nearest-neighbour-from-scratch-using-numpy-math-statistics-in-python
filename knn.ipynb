{
 "cells": [
  {
   "cell_type": "code",
   "execution_count": 70,
   "metadata": {},
   "outputs": [
    {
     "name": "stdout",
     "output_type": "stream",
     "text": [
      "[5, 6, 8, 8, 8]\n",
      "8\n"
     ]
    }
   ],
   "source": [
    "import numpy as np\n",
    "#import cv2\n",
    "#from matplotlib import pyplot as plt\n",
    "import math\n",
    "from statistics import mode\n",
    "\n",
    "\n",
    "img = cv2.imread('digits.png')\n",
    "gray = cv2.cvtColor(img,cv2.COLOR_BGR2GRAY)\n",
    "\n",
    "# Now we split the image to 5000 cells, each 20x20 size\n",
    "cells = [np.hsplit(row,100) for row in np.vsplit(gray,50)]\n",
    "\n",
    "# Make it into a Numpy array. It size will be (50,100,20,20)\n",
    "x = np.array(cells)\n",
    "\n",
    "# Now we prepare train_data and test_data.\n",
    "train = x[:,:50].reshape(-1,400).astype(np.float32) # Size = (2500,400)\n",
    "test = x[:,50:100].reshape(-1,400).astype(np.float32) # Size = (2500,400)\n",
    "\n",
    "# Create labels for train and test data\n",
    "k = np.arange(10)\n",
    "train_labels = np.repeat(k,250)[:,np.newaxis]\n",
    "test_labels = train_labels.copy()\n",
    "\n",
    "\n",
    "#print(test_labels)\n",
    "#print(train[0])\n",
    "\n",
    "#print(len(train[0]))\n",
    "#print(len(train_labels[0]))\n",
    "\n",
    "def euclideantest(train,test,train_labels,test_labels,k,m):\n",
    "    \n",
    "    distance = 0\n",
    "    dist1 = []\n",
    "    dist2 = []\n",
    "    \n",
    "    for j in range(0,len(train)):\n",
    "        \n",
    "        distance = 0\n",
    "        \n",
    "        for i in range(0,len(train[0])):\n",
    "            \n",
    "            distance = distance + ((train[j][i] - test[m][i])**2)\n",
    "            \n",
    "        dist1.append(math.sqrt(distance))\n",
    "        dist2.append(math.sqrt(distance))\n",
    "        \n",
    "    dist1.sort()\n",
    "    #print(dist1)\n",
    "    \n",
    "    five = []\n",
    "    \n",
    "    for i in range(0,k):\n",
    "        \n",
    "        five.append((train_labels[dist2.index(dist1[i])])[0])\n",
    "        #print(five)\n",
    "        #print(train_labels[dist2.index(dist1[i])])\n",
    "    freq = mode(five)\n",
    "    print(five)\n",
    "    #freq = five\n",
    "    \n",
    "    del five[:]\n",
    "    del dist1[:]\n",
    "    del dist2[:]\n",
    "        \n",
    "    return freq\n",
    "\n",
    "print(euclideantest(train,test,train_labels,test_labels,5,2095))\n",
    "\n",
    "        \n",
    "\n"
   ]
  },
  {
   "cell_type": "code",
   "execution_count": null,
   "metadata": {},
   "outputs": [],
   "source": []
  }
 ],
 "metadata": {
  "kernelspec": {
   "display_name": "Python 3",
   "language": "python",
   "name": "python3"
  },
  "language_info": {
   "codemirror_mode": {
    "name": "ipython",
    "version": 3
   },
   "file_extension": ".py",
   "mimetype": "text/x-python",
   "name": "python",
   "nbconvert_exporter": "python",
   "pygments_lexer": "ipython3",
   "version": "3.6.9"
  }
 },
 "nbformat": 4,
 "nbformat_minor": 2
}
